{
 "cells": [
  {
   "cell_type": "markdown",
   "metadata": {},
   "source": [
    "导入 NumPy"
   ]
  },
  {
   "cell_type": "code",
   "execution_count": 3,
   "metadata": {},
   "outputs": [],
   "source": [
    "import numpy as np"
   ]
  },
  {
   "cell_type": "markdown",
   "metadata": {},
   "source": [
    "## N-dimensional array ( ndarray )"
   ]
  },
  {
   "cell_type": "markdown",
   "metadata": {},
   "source": [
    "`ndarray` 是一个（通常大小固定的）多维容器，包含相同类型和长度的元素。数组中的维度和元素数由 `shape` 定义，这是 N 个非负整数的 `tuple` ，用于指定每个维度的大小。数组中元素的类型由单独的**数据类型对象** `dtype` 指定，其中一个与每个 `ndarray` 相关联。\n",
    "\n",
    "`ndarray` 与 Python 中的其他容器对象一样，可以通过索引或切片数组（例如，使用 N 个整数）以及通过 `ndarray` 的方法和属性来访问和修改的内容。\n",
    "\n",
    "不同的 `ndarray`s 可以共享相同的数据，因此在一个 `ndarray` 中所做的更改可能在另一个 `ndarray` 中可见。也就是说，一个 `ndarray` 可以是另一个 `ndarray` 的“视图 view”，它引用的数据由“基础 base” `ndarray` 负责。 `ndarray` 也可以是 Python 拥有的内存的视图 `strings` ，或者实现 <span style='color:red'>buffer</span> 或 `array` 接口的对象。"
   ]
  },
  {
   "cell_type": "markdown",
   "metadata": {},
   "source": [
    "### numpy.ndarray"
   ]
  },
  {
   "cell_type": "markdown",
   "metadata": {},
   "source": [
    "NumPy 的核心是 N维数组 N-Dimension Array: `ndarray`\n",
    "\n",
    "类 numpy.ndarray(shape, dtype=float，buffer=None，offset=0，strides=None，order=None)\n",
    "\n",
    "数组对象表示固定长度的多维、同构数组。关联的数据类型对象描述数组中每个元素的格式（其字节顺序、在内存中占用多少字节、是整数、浮点数还是其他数字等）。\n",
    "\n",
    "数组应使用 `array`、`zeros` 或 `empty` 来构造（请参阅下面的另请参阅部分）。此处给出的参数指的是用于实例化数组的低级方法（ndarray(…) ）。\n",
    "\n",
    "有关更多信息，请参阅numpy模块并检查数组的方法和属性。\n",
    "\n",
    ">**Parameters: (for the __new__ method; see Notes below)**  \n",
    "&ensp;&ensp;**shape : tuple of ints**  \n",
    "&ensp;&ensp;&ensp;&ensp;Shape of created array.  \n",
    "&ensp;&ensp;&ensp;&ensp;创建的数组的形状。  \n",
    "&ensp;&ensp;**dtype : data-type, optional**  \n",
    "&ensp;&ensp;&ensp;&ensp;Any object that can be interpreted as a numpy data type.  \n",
    "&ensp;&ensp;&ensp;&ensp;任何可以解释为 numpy 数据类型的对象。  \n",
    "&ensp;&ensp;**buffer : object exposing buffer interface, optional**  \n",
    "&ensp;&ensp;&ensp;&ensp;Used to fill the array with data.  \n",
    "&ensp;&ensp;&ensp;&ensp;用于用数据填充数组。  \n",
    "&ensp;&ensp;**offset : int, optional**  \n",
    "&ensp;&ensp;&ensp;&ensp;Offset of array data in buffer.  \n",
    "&ensp;&ensp;&ensp;&ensp;缓冲区中数组数据的偏移量。  \n",
    "&ensp;&ensp;**strides : tuple of ints, optional**  \n",
    "&ensp;&ensp;&ensp;&ensp;Strides of data in memory.  \n",
    "&ensp;&ensp;&ensp;&ensp;内存中的数据步幅。  \n",
    "&ensp;&ensp;**order : {‘C’, ‘F’}, optional**  \n",
    "&ensp;&ensp;&ensp;&ensp;Row-major (C-style) or column-major (Fortran-style) order.  \n",
    "&ensp;&ensp;&ensp;&ensp;行主序（C 风格）或列主序（Fortran 风格）。  \n"
   ]
  },
  {
   "cell_type": "markdown",
   "metadata": {},
   "source": [
    "例子:"
   ]
  },
  {
   "cell_type": "code",
   "execution_count": 10,
   "metadata": {},
   "outputs": [
    {
     "name": "stdout",
     "output_type": "stream",
     "text": [
      "<class 'numpy.ndarray'>\n"
     ]
    }
   ],
   "source": [
    "x = np.array([\n",
    "  [1, 2, 3, 4],\n",
    "  [5, 6, 7, 8]\n",
    "  ])\n",
    "print(type(x))"
   ]
  },
  {
   "cell_type": "markdown",
   "metadata": {},
   "source": [
    "**笔记**\n",
    "\n",
    "创建 <span style='color:red'>__new__</span> 数组有两种方式：\n",
    "\n",
    "1. 如果 *缓冲区* 为无，则仅使用 `shape` 、 `dtype` 和 order。\n",
    "2. 如果 *缓冲区* 是公开缓冲区接口的对象，则所有关键字都会被解释。\n",
    "\n",
    "不需要任何 <span style='color:red'>\\_\\_init__</span> 方法，因为数组在 <span style='color:red'>\\_\\_new__</span> 方法之后已完全初始化。"
   ]
  },
  {
   "cell_type": "markdown",
   "metadata": {},
   "source": [
    "**示例**\n",
    "\n",
    "这些示例说明了低级 ndarray 构造函数。请参阅上面的另请参阅部分，了解构造 ndarray 的更简单方法。\n",
    "\n",
    "第一种模式，*缓冲区* 为 None：\n",
    "\n",
    "```python\n",
    ">>> np.ndarray(shape=(2,2), dtype=float, order='F')\n",
    "```\n",
    "<div style='background-color:rgb(33, 33, 33)'>array([[0.0e+000, 0.0e+000], # random</div>  \n",
    "<div style='background-color:rgb(33, 33, 33)'>&ensp;&ensp;&ensp;&ensp;&ensp;&ensp;&ensp;&ensp;[     nan, 2.5e-323]])</div>\n",
    "\n",
    "第二种模式：\n",
    "\n",
    "```python\n",
    ">>> np.ndarray((2,), buffer=np.array([1,2,3]),\n",
    "...        offset=np.int_().itemsize,\n",
    "...        dtype=int) # offset = 1*itemsize, i.e. skip first element\n",
    "```\n",
    "<div style='background-color:rgb(33, 33, 33)'>array([2, 3])</div>\n",
    "\n",
    "**Attributes:**  \n",
    "**T :** ***ndarray***  \n",
    "&ensp;&ensp;View of the transposed array.  \n",
    "&ensp;&ensp;转置数组的视图。  \n",
    "**data :** ***buffer***  \n",
    "&ensp;&ensp;Python buffer object pointing to the start of the array’s data.  \n",
    "&ensp;&ensp;指向数组数据开头的 Python 缓冲区对象。  \n",
    "**dtype :** ***dtype object***  \n",
    "&ensp;&ensp;Data-type of the array’s elements.  \n",
    "&ensp;&ensp;数组元素的数据类型。  \n",
    "**flags :** ***dict***  \n",
    "&ensp;&ensp;Information about the memory layout of the array.  \n",
    "&ensp;&ensp;有关数组内存布局的信息。  \n",
    "**flat :** ***numpy.flatiter object***  \n",
    "&ensp;&ensp;A 1-D iterator over the array.  \n",
    "&ensp;&ensp;数组上的一维迭代器。  \n",
    "**imag :** ***ndarray***  \n",
    "&ensp;&ensp;The imaginary part of the array.  \n",
    "&ensp;&ensp;数组的虚部。  \n",
    "**real :** ***ndarray***  \n",
    "&ensp;&ensp;The real part of the array.  \n",
    "&ensp;&ensp;数组的实部。  \n",
    "**size :**  ***int***  \n",
    "&ensp;&ensp;Number of elements in the array.  \n",
    "&ensp;&ensp;数组中元素的数量。  \n",
    "**items :** ***izeint***  \n",
    "&ensp;&ensp;Length of one array element in bytes.  \n",
    "&ensp;&ensp;一个数组元素的长度（以字节为单位）。  \n",
    "**nbytes :** ***int***  \n",
    "&ensp;&ensp;Total bytes consumed by the elements of the array.  \n",
    "&ensp;&ensp;数组元素消耗的总字节数。  \n",
    "**ndim :** ***int***  \n",
    "&ensp;&ensp;Number of array dimensions.  \n",
    "&ensp;&ensp;数组维数。  \n",
    "**shape :** ***tuple of ints***  \n",
    "&ensp;&ensp;Tuple of array dimensions.  \n",
    "&ensp;&ensp;数组维度的元组。  \n",
    "**strides :** ***tuple of ints***  \n",
    "&ensp;&ensp;Tuple of bytes to step in each dimension when traversing an array.  \n",
    "&ensp;&ensp;遍历数组时在每个维度上要步进的字节元组。  \n",
    "**ctypes :** ***ctypes object***  \n",
    "&ensp;&ensp;An object to simplify the interaction of the array with the ctypes module.  \n",
    "&ensp;&ensp;一个用于简化数组与 ctypes 模块交互的对象。  \n",
    "**base :** ***ndarray***  \n",
    "&ensp;&ensp;Base object if memory is from some other object.  \n",
    "&ensp;&ensp;如果内存来自其他对象，则为基对象。  \n"
   ]
  },
  {
   "cell_type": "markdown",
   "metadata": {},
   "source": [
    "#### 方法"
   ]
  },
  {
   "cell_type": "markdown",
   "metadata": {},
   "source": [
    "##### numpy.ndarray.all"
   ]
  },
  {
   "cell_type": "markdown",
   "metadata": {},
   "source": [
    "`ndarray.all(axis=None, out=None, keepdims=False, *, where=True)`\n",
    "\n",
    "如果所有元素的计算结果都为 True，则返回 True。\n",
    "\n",
    "与 `numpy.all` 功能相同。"
   ]
  },
  {
   "cell_type": "code",
   "execution_count": 4,
   "metadata": {},
   "outputs": [
    {
     "data": {
      "text/plain": [
       "False"
      ]
     },
     "execution_count": 4,
     "metadata": {},
     "output_type": "execute_result"
    }
   ],
   "source": [
    "x = np.array([[True,False],[True,True]])\n",
    "print(x.all())\n",
    "x = np.array([[True,False],[True,True]], axis=0)\n"
   ]
  },
  {
   "cell_type": "markdown",
   "metadata": {},
   "source": [
    "#### 属性"
   ]
  }
 ],
 "metadata": {
  "kernelspec": {
   "display_name": "ML10",
   "language": "python",
   "name": "python3"
  },
  "language_info": {
   "codemirror_mode": {
    "name": "ipython",
    "version": 3
   },
   "file_extension": ".py",
   "mimetype": "text/x-python",
   "name": "python",
   "nbconvert_exporter": "python",
   "pygments_lexer": "ipython3",
   "version": "3.10.14"
  }
 },
 "nbformat": 4,
 "nbformat_minor": 2
}
