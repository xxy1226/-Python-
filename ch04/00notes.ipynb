{
 "cells": [
  {
   "cell_type": "markdown",
   "metadata": {},
   "source": [
    "# Lost Function"
   ]
  },
  {
   "cell_type": "markdown",
   "metadata": {},
   "source": [
    "## 1. Mean Squared Error"
   ]
  },
  {
   "cell_type": "markdown",
   "metadata": {},
   "source": [
    "$$\n",
    "E = \\frac{1}{2}\\sum_k(y_k - t_k)^2\n",
    "\\tag{4.1}\n",
    "$$\n",
    "\n",
    "$y_k$: output  \n",
    "$t_k$: training value  \n",
    "$k$: dimensions"
   ]
  },
  {
   "cell_type": "markdown",
   "metadata": {},
   "source": [
    "### e.g.\n",
    "\n",
    "y = [0.1, 0.05, 0.6, 0.0, 0.05, 0.1, 0.0, 0.1, 0.0, 0.0]  \n",
    "t = [0, 0, 1, 0, 0, 0, 0, 0, 0, 0]"
   ]
  },
  {
   "cell_type": "code",
   "execution_count": 1,
   "metadata": {},
   "outputs": [
    {
     "name": "stdout",
     "output_type": "stream",
     "text": [
      "0.09750000000000003\n"
     ]
    }
   ],
   "source": [
    "import numpy as np\n",
    "\n",
    "def mean_squared_error(y, t):\n",
    "  return 0.5 * np.sum((y - t) ** 2)\n",
    "\n",
    "y = [0.1, 0.05, 0.6, 0.0, 0.05, 0.1, 0.0, 0.1, 0.0, 0.0]\n",
    "t = [0, 0, 1, 0, 0, 0, 0, 0, 0, 0]\n",
    "\n",
    "print(mean_squared_error(np.array(y), np.array(t)))"
   ]
  },
  {
   "cell_type": "markdown",
   "metadata": {},
   "source": [
    "## 2. Cross Entropy Error"
   ]
  },
  {
   "cell_type": "markdown",
   "metadata": {},
   "source": [
    "$$\n",
    "E = -\\sum_kt_k\\log y_k\n",
    "\\tag{4.2}\n",
    "$$"
   ]
  },
  {
   "cell_type": "markdown",
   "metadata": {},
   "source": [
    "### e.g.\n",
    "\n",
    "y = [0.1, 0.05, 0.6, 0.0, 0.05, 0.1, 0.0, 0.1, 0.0, 0.0]  \n",
    "t = [0, 0, 1, 0, 0, 0, 0, 0, 0, 0]"
   ]
  },
  {
   "cell_type": "code",
   "execution_count": 4,
   "metadata": {},
   "outputs": [
    {
     "name": "stdout",
     "output_type": "stream",
     "text": [
      "0.510825457099338\n"
     ]
    }
   ],
   "source": [
    "import numpy as np\n",
    "def cross_entropy_error(y, t):\n",
    "  delta = 1e-7\n",
    "  return -np.sum(t * np.log(y + delta))\n",
    "\n",
    "y = [0.1, 0.05, 0.6, 0.0, 0.05, 0.1, 0.0, 0.1, 0.0, 0.0]\n",
    "t = [0, 0, 1, 0, 0, 0, 0, 0, 0, 0]\n",
    "\n",
    "print(cross_entropy_error(np.array(y), np.array(t)))"
   ]
  },
  {
   "cell_type": "markdown",
   "metadata": {},
   "source": [
    "## Sum of Cross Entropy Error"
   ]
  },
  {
   "cell_type": "markdown",
   "metadata": {},
   "source": [
    "$$\n",
    "E = -\\frac{1}{N}\\sum_n\\sum_kt_{nk}\\log{y_{nk}}\n",
    "\\tag{4.3}\n",
    "$$"
   ]
  },
  {
   "cell_type": "markdown",
   "metadata": {},
   "source": [
    "## mini-batch Learning"
   ]
  },
  {
   "cell_type": "code",
   "execution_count": 10,
   "metadata": {},
   "outputs": [
    {
     "name": "stdout",
     "output_type": "stream",
     "text": [
      "(60000, 784)\n",
      "(60000, 10)\n"
     ]
    }
   ],
   "source": [
    "import sys, os\n",
    "sys.path.append(os.pardir)\n",
    "import numpy as np\n",
    "from dataset.mnist import load_mnist\n",
    "\n",
    "(x_train, t_train), (x_test, t_test) = load_mnist(normalize=True, one_hot_label=True)\n",
    "\n",
    "print(x_train.shape)\n",
    "print(t_train.shape)"
   ]
  },
  {
   "cell_type": "markdown",
   "metadata": {},
   "source": [
    "随机抽取10组数据"
   ]
  },
  {
   "cell_type": "code",
   "execution_count": 11,
   "metadata": {},
   "outputs": [
    {
     "name": "stdout",
     "output_type": "stream",
     "text": [
      "[48869 59785 11343 13963  4100 32335 41823  6414 59352 55044]\n"
     ]
    }
   ],
   "source": [
    "import numpy as np\n",
    "train_size = x_train.shape[0]\n",
    "batch_size = 10\n",
    "batch_mask = np.random.choice(train_size, batch_size)\n",
    "x_batch = x_train[batch_mask]\n",
    "t_batch = t_train[batch_mask]\n",
    "\n",
    "print(batch_mask)"
   ]
  },
  {
   "cell_type": "markdown",
   "metadata": {},
   "source": [
    "当 one hot 启用时:"
   ]
  },
  {
   "cell_type": "code",
   "execution_count": 22,
   "metadata": {},
   "outputs": [
    {
     "name": "stdout",
     "output_type": "stream",
     "text": [
      "batch size: 2\n",
      "0.5249108908207827\n"
     ]
    }
   ],
   "source": [
    "import numpy as np\n",
    "def cross_entropy_error_onehot(y, t):\n",
    "  if y.ndim == 1:\n",
    "    t = t.reshape(1, t.size)\n",
    "    y = y.reshape(1, y.size)\n",
    "    \n",
    "    print(\"y.shape:\", y.shape)\n",
    "    \n",
    "  batch_size = y.shape[0]\n",
    "  print(\"batch size:\", batch_size)\n",
    "  return -np.sum(t * np.log(y + 1e-7)) / batch_size\n",
    "\n",
    "print(cross_entropy_error_onehot(np.array([[0.1, 0.2, 0.7], [0.3, 0.2, 0.5]]), np.array([[0, 0, 1], [0, 0, 1]])))\n",
    "\n"
   ]
  },
  {
   "cell_type": "markdown",
   "metadata": {},
   "source": [
    "当 标签 启用时(one hot 未启用):"
   ]
  },
  {
   "cell_type": "code",
   "execution_count": 53,
   "metadata": {},
   "outputs": [
    {
     "name": "stdout",
     "output_type": "stream",
     "text": [
      "batch size: 2\n",
      "[0 1]\n",
      "<class 'numpy.ndarray'>\n",
      "[0.7 0.5]\n",
      "[0.3 0.2 0.5]\n",
      "[0.7 0.5]\n",
      "<class 'numpy.ndarray'>\n",
      "0.5249108908207827\n"
     ]
    }
   ],
   "source": [
    "import numpy as np\n",
    "def cross_entropy_error_tag(y, t):\n",
    "    if y.ndim == 1:\n",
    "        t = t.reshape(1, t.size)\n",
    "        y = y.reshape(1, y.size)\n",
    "        \n",
    "    batch_size = y.shape[0]\n",
    "    print(\"batch size:\", batch_size)\n",
    "    print(np.arange(batch_size))\n",
    "    print(type(np.arange(batch_size)))\n",
    "    print(y[np.arange(batch_size), t])\n",
    "    print(y[1])\n",
    "    print(y[np.array([0, 1]), t])\n",
    "    print(type(np.arange(2)))\n",
    "    return -np.sum(np.log(y[np.arange(batch_size), t] + 1e-7)) / batch_size\n",
    "\n",
    "y = np.array([[0.1, 0.2, 0.7], [0.3, 0.2, 0.5]])\n",
    "t = np.array([2, 2])\n",
    "print(cross_entropy_error_tag(y, t))"
   ]
  },
  {
   "cell_type": "code",
   "execution_count": 54,
   "metadata": {},
   "outputs": [
    {
     "name": "stdout",
     "output_type": "stream",
     "text": [
      "1.26.4\n",
      "[1 2 3 4]\n",
      "[1 3 2 4]\n",
      "3\n",
      "3\n",
      "2\n"
     ]
    }
   ],
   "source": [
    "print(np.__version__)\n",
    "\n",
    "a = np.array([[1, 2], [3, 4]])\n",
    "print(a.flatten())\n",
    "print(a.flatten('F'))\n",
    "print(a.argmax())\n",
    "print(np.argmax(a))\n",
    "print(a[0,1])"
   ]
  },
  {
   "cell_type": "markdown",
   "metadata": {},
   "source": [
    "# 数值微分/梯度"
   ]
  },
  {
   "cell_type": "markdown",
   "metadata": {},
   "source": [
    "## 导数 Derivative"
   ]
  },
  {
   "cell_type": "markdown",
   "metadata": {},
   "source": [
    "$$\n",
    "\\frac{\\mathrm{d}f(x)}{\\mathrm{d}x} = \\lim_{h\\rightarrow0}\\frac{f(x+h)-f(x)}{h}\n",
    "\\tag{4.4}\n",
    "$$"
   ]
  },
  {
   "cell_type": "markdown",
   "metadata": {},
   "source": [
    "例:\n",
    "$$\n",
    "y = 0.01x^2+0.1x\\tag{4.5}\n",
    "$$"
   ]
  },
  {
   "cell_type": "code",
   "execution_count": 58,
   "metadata": {},
   "outputs": [
    {
     "data": {
      "image/png": "[encoded data removed]",
      "text/plain": [
       "<Figure size 640x480 with 1 Axes>"
      ]
     },
     "metadata": {},
     "output_type": "display_data"
    }
   ],
   "source": [
    "import matplotlib.pyplot as plt\n",
    "\n",
    "def f(x):\n",
    "  return 0.01*x**2 + 0.1*x\n",
    "\n",
    "x = np.arange(0.0, 20.0, 0.1)\n",
    "y = f(x)\n",
    "plt.plot(x, y)\n",
    "plt.xlabel('x')\n",
    "plt.ylabel('f(x)')\n",
    "plt.show()"
   ]
  },
  {
   "cell_type": "markdown",
   "metadata": {},
   "source": [
    "计算这个函数在 x=5 和 x=10 处的导数"
   ]
  },
  {
   "cell_type": "code",
   "execution_count": 59,
   "metadata": {},
   "outputs": [
    {
     "name": "stdout",
     "output_type": "stream",
     "text": [
      "0.1999999999990898\n",
      "0.2999999999986347\n"
     ]
    }
   ],
   "source": [
    "def numerical_diff(f, x):\n",
    "  h = 1e-4\n",
    "  return (f(x+h) - f(x-h)) / (2*h)\n",
    "\n",
    "print(numerical_diff(f, 5))\n",
    "print(numerical_diff(f, 10))"
   ]
  },
  {
   "cell_type": "markdown",
   "metadata": {},
   "source": [
    "## 偏导数 Partial derivative"
   ]
  },
  {
   "cell_type": "markdown",
   "metadata": {},
   "source": [
    "例2，给定二元二次函数:\n",
    "$$\n",
    "f(x_0, x_1) = x_0^2 +x_1^2\n",
    "\\tag{4.6}\n",
    "$$\n",
    "分别求:在 $x_0 = 3, x_1=4$ 处 $x_0$ 和 $x_1$ 的导数"
   ]
  },
  {
   "cell_type": "code",
   "execution_count": 62,
   "metadata": {},
   "outputs": [],
   "source": [
    "def f22(x):\n",
    "  return np.sum(x**2)"
   ]
  },
  {
   "cell_type": "code",
   "execution_count": 61,
   "metadata": {},
   "outputs": [
    {
     "name": "stdout",
     "output_type": "stream",
     "text": [
      "6.00000000000378\n",
      "7.999999999999119\n"
     ]
    }
   ],
   "source": [
    "def f220(x):\n",
    "  return x**2 + 4**2\n",
    "\n",
    "def f221(x):\n",
    "  return 3**2 + x**2\n",
    "\n",
    "print(numerical_diff(f220, 3))\n",
    "print(numerical_diff(f221, 4))"
   ]
  },
  {
   "cell_type": "markdown",
   "metadata": {},
   "source": [
    "## 梯度 Gradient"
   ]
  },
  {
   "cell_type": "markdown",
   "metadata": {},
   "source": [
    "由偏导数组成的向量($\\frac{\\delta f}{\\delta x_0},\\frac{\\delta f}{\\delta x_1}$) 称为**梯度**(gradient)"
   ]
  },
  {
   "cell_type": "code",
   "execution_count": 72,
   "metadata": {},
   "outputs": [
    {
     "name": "stdout",
     "output_type": "stream",
     "text": [
      "[6. 8.]\n",
      "[2. 4.]\n",
      "[0. 4.]\n",
      "[6. 0.]\n"
     ]
    }
   ],
   "source": [
    "def gradient(f, x):\n",
    "  h = 1e-4\n",
    "  grad = np.zeros_like(x)\n",
    "  for idx in range(x.size):\n",
    "    val_temp = x[idx]\n",
    "    x[idx] = val_temp + h\n",
    "    fxh1 = f(x)\n",
    "    x[idx] = val_temp - h\n",
    "    fxh2 = f(x)\n",
    "    grad[idx] = (fxh1 - fxh2) / (2 * h)\n",
    "    x[idx] = val_temp\n",
    "  return grad\n",
    "\n",
    "x = np.array([3.0, 4.0])\n",
    "print(gradient(f22, x))\n",
    "x = np.array([1.0, 2.0])\n",
    "print(gradient(f22, x))\n",
    "x = np.array([0.0, 2.0])\n",
    "print(gradient(f22, x))\n",
    "x = np.array([3.0, 0.0])\n",
    "print(gradient(f22, x))\n",
    "    "
   ]
  },
  {
   "cell_type": "markdown",
   "metadata": {},
   "source": [
    "### 梯度法"
   ]
  },
  {
   "cell_type": "markdown",
   "metadata": {},
   "source": [
    "$$\n",
    "\\begin{align}\n",
    "x_0 = x_0 - \\eta\\frac{\\delta f}{\\delta x_o}\n",
    "\\\\\n",
    "x_1 = x_1 - \\eta\\frac{\\delta f}{\\delta x_o}\n",
    "\\end{align}\n",
    "\\tag{4.7}\n",
    "$$\n",
    "\n",
    "$\\eta$ 表示更新量，在神经网络的学习中，称为**学习率 learning rate**。"
   ]
  },
  {
   "cell_type": "code",
   "execution_count": null,
   "metadata": {},
   "outputs": [],
   "source": []
  },
  {
   "cell_type": "code",
   "execution_count": 82,
   "metadata": {},
   "outputs": [],
   "source": [
    "def gradient_descent(f, init_x, lr=0.01, step_num=100):\n",
    "  x = init_x\n",
    "  \n",
    "  for i in range(step_num):\n",
    "    grad = gradient(f, x)\n",
    "    x -= lr * grad\n",
    "    \n",
    "  return x"
   ]
  },
  {
   "cell_type": "code",
   "execution_count": 81,
   "metadata": {},
   "outputs": [
    {
     "name": "stdout",
     "output_type": "stream",
     "text": [
      "0 [-3.  4.]\n",
      "[-6.  8.]\n",
      "1 [-2.94  3.92]\n",
      "[-5.88  7.84]\n",
      "2 [-2.8812  3.8416]\n",
      "[-5.7624  7.6832]\n",
      "3 [-2.823576  3.764768]\n",
      "[-5.647152  7.529536]\n",
      "4 [-2.76710448  3.68947264]\n",
      "[-5.53420896  7.37894528]\n",
      "5 [-2.71176239  3.61568319]\n",
      "[-5.42352478  7.23136637]\n",
      "6 [-2.65752714  3.54336952]\n",
      "[-5.31505429  7.08673905]\n",
      "7 [-2.6043766   3.47250213]\n",
      "[-5.2087532   6.94500427]\n",
      "8 [-2.55228907  3.40305209]\n",
      "[-5.10457814  6.80610418]\n",
      "9 [-2.50124329  3.33499105]\n",
      "[-5.00248657  6.6699821 ]\n",
      "10 [-2.45121842  3.26829123]\n",
      "[-4.90243684  6.53658246]\n",
      "11 [-2.40219405  3.2029254 ]\n",
      "[-4.8043881   6.40585081]\n",
      "12 [-2.35415017  3.13886689]\n",
      "[-4.70830034  6.27773379]\n",
      "13 [-2.30706717  3.07608956]\n",
      "[-4.61413434  6.15217911]\n",
      "14 [-2.26092582  3.01456777]\n",
      "[-4.52185165  6.02913553]\n",
      "15 [-2.21570731  2.95427641]\n",
      "[-4.43141462  5.90855282]\n",
      "16 [-2.17139316  2.89519088]\n",
      "[-4.34278632  5.79038176]\n",
      "17 [-2.1279653   2.83728706]\n",
      "[-4.2559306   5.67457413]\n",
      "18 [-2.08540599  2.78054132]\n",
      "[-4.17081199  5.56108265]\n",
      "19 [-2.04369787  2.7249305 ]\n",
      "[-4.08739575  5.44986099]\n",
      "20 [-2.00282392  2.67043189]\n",
      "[-4.00564783  5.34086377]\n",
      "21 [-1.96276744  2.61702325]\n",
      "[-3.92553487  5.2340465 ]\n",
      "22 [-1.92351209  2.56468278]\n",
      "[-3.84702418  5.12936557]\n",
      "23 [-1.88504185  2.51338913]\n",
      "[-3.77008369  5.02677826]\n",
      "24 [-1.84734101  2.46312135]\n",
      "[-3.69468202  4.92624269]\n",
      "25 [-1.81039419  2.41385892]\n",
      "[-3.62078838  4.82771784]\n",
      "26 [-1.77418631  2.36558174]\n",
      "[-3.54837261  4.73116348]\n",
      "27 [-1.73870258  2.31827011]\n",
      "[-3.47740516  4.63654021]\n",
      "28 [-1.70392853  2.2719047 ]\n",
      "[-3.40785706  4.54380941]\n",
      "29 [-1.66984996  2.22646661]\n",
      "[-3.33969991  4.45293322]\n",
      "30 [-1.63645296  2.18193728]\n",
      "[-3.27290592  4.36387456]\n",
      "31 [-1.6037239   2.13829853]\n",
      "[-3.2074478   4.27659706]\n",
      "32 [-1.57164942  2.09553256]\n",
      "[-3.14329884  4.19106512]\n",
      "33 [-1.54021643  2.05362191]\n",
      "[-3.08043287  4.10724382]\n",
      "34 [-1.5094121   2.01254947]\n",
      "[-3.01882421  4.02509894]\n",
      "35 [-1.47922386  1.97229848]\n",
      "[-2.95844772  3.94459696]\n",
      "36 [-1.44963938  1.93285251]\n",
      "[-2.89927877  3.86570503]\n",
      "37 [-1.4206466   1.89419546]\n",
      "[-2.84129319  3.78839093]\n",
      "38 [-1.39223366  1.85631155]\n",
      "[-2.78446733  3.71262311]\n",
      "39 [-1.36438899  1.81918532]\n",
      "[-2.72877798  3.63837064]\n",
      "40 [-1.33710121  1.78280162]\n",
      "[-2.67420242  3.56560323]\n",
      "41 [-1.31035919  1.74714558]\n",
      "[-2.62071838  3.49429117]\n",
      "42 [-1.284152    1.71220267]\n",
      "[-2.56830401  3.42440534]\n",
      "43 [-1.25846896  1.67795862]\n",
      "[-2.51693793  3.35591724]\n",
      "44 [-1.23329958  1.64439945]\n",
      "[-2.46659917  3.28879889]\n",
      "45 [-1.20863359  1.61151146]\n",
      "[-2.41726719  3.22302291]\n",
      "46 [-1.18446092  1.57928123]\n",
      "[-2.36892184  3.15856246]\n",
      "47 [-1.1607717  1.5476956]\n",
      "[-2.32154341  3.09539121]\n",
      "48 [-1.13755627  1.51674169]\n",
      "[-2.27511254  3.03348338]\n",
      "49 [-1.11480514  1.48640686]\n",
      "[-2.22961029  2.97281371]\n",
      "50 [-1.09250904  1.45667872]\n",
      "[-2.18501808  2.91335744]\n",
      "51 [-1.07065886  1.42754515]\n",
      "[-2.14131772  2.85509029]\n",
      "52 [-1.04924568  1.39899424]\n",
      "[-2.09849136  2.79798849]\n",
      "53 [-1.02826077  1.37101436]\n",
      "[-2.05652154  2.74202872]\n",
      "54 [-1.00769555  1.34359407]\n",
      "[-2.01539111  2.68718814]\n",
      "55 [-0.98754164  1.31672219]\n",
      "[-1.97508328  2.63344438]\n",
      "56 [-0.96779081  1.29038775]\n",
      "[-1.93558162  2.58077549]\n",
      "57 [-0.94843499  1.26457999]\n",
      "[-1.89686999  2.52915998]\n",
      "58 [-0.92946629  1.23928839]\n",
      "[-1.85893259  2.47857678]\n",
      "59 [-0.91087697  1.21450262]\n",
      "[-1.82175393  2.42900525]\n",
      "60 [-0.89265943  1.19021257]\n",
      "[-1.78531886  2.38042514]\n",
      "61 [-0.87480624  1.16640832]\n",
      "[-1.74961248  2.33281664]\n",
      "62 [-0.85731011  1.14308015]\n",
      "[-1.71462023  2.28616031]\n",
      "63 [-0.84016391  1.12021855]\n",
      "[-1.68032782  2.2404371 ]\n",
      "64 [-0.82336063  1.09781418]\n",
      "[-1.64672127  2.19562836]\n",
      "65 [-0.80689342  1.0758579 ]\n",
      "[-1.61378684  2.15171579]\n",
      "66 [-0.79075555  1.05434074]\n",
      "[-1.58151111  2.10868147]\n",
      "67 [-0.77494044  1.03325392]\n",
      "[-1.54988088  2.06650785]\n",
      "68 [-0.75944163  1.01258884]\n",
      "[-1.51888327  2.02517769]\n",
      "69 [-0.7442528   0.99233707]\n",
      "[-1.4885056   1.98467413]\n",
      "70 [-0.72936774  0.97249033]\n",
      "[-1.45873549  1.94498065]\n",
      "71 [-0.71478039  0.95304052]\n",
      "[-1.42956078  1.90608104]\n",
      "72 [-0.70048478  0.93397971]\n",
      "[-1.40096956  1.86795942]\n",
      "73 [-0.68647509  0.91530011]\n",
      "[-1.37295017  1.83060023]\n",
      "74 [-0.67274558  0.89699411]\n",
      "[-1.34549117  1.79398823]\n",
      "75 [-0.65929067  0.87905423]\n",
      "[-1.31858135  1.75810846]\n",
      "76 [-0.64610486  0.86147315]\n",
      "[-1.29220972  1.72294629]\n",
      "77 [-0.63318276  0.84424368]\n",
      "[-1.26636552  1.68848737]\n",
      "78 [-0.62051911  0.82735881]\n",
      "[-1.24103821  1.65471762]\n",
      "79 [-0.60810872  0.81081163]\n",
      "[-1.21621745  1.62162327]\n",
      "80 [-0.59594655  0.7945954 ]\n",
      "[-1.1918931  1.5891908]\n",
      "81 [-0.58402762  0.77870349]\n",
      "[-1.16805524  1.55740698]\n",
      "82 [-0.57234707  0.76312942]\n",
      "[-1.14469413  1.52625884]\n",
      "83 [-0.56090013  0.74786683]\n",
      "[-1.12180025  1.49573367]\n",
      "84 [-0.54968212  0.7329095 ]\n",
      "[-1.09936425  1.46581899]\n",
      "85 [-0.53868848  0.71825131]\n",
      "[-1.07737696  1.43650261]\n",
      "86 [-0.52791471  0.70388628]\n",
      "[-1.05582942  1.40777256]\n",
      "87 [-0.51735642  0.68980856]\n",
      "[-1.03471283  1.37961711]\n",
      "88 [-0.50700929  0.67601238]\n",
      "[-1.01401858  1.35202477]\n",
      "89 [-0.4968691   0.66249214]\n",
      "[-0.99373821  1.32498427]\n",
      "90 [-0.48693172  0.64924229]\n",
      "[-0.97386344  1.29848459]\n",
      "91 [-0.47719309  0.63625745]\n",
      "[-0.95438617  1.2725149 ]\n",
      "92 [-0.46764922  0.6235323 ]\n",
      "[-0.93529845  1.2470646 ]\n",
      "93 [-0.45829624  0.61106165]\n",
      "[-0.91659248  1.22212331]\n",
      "94 [-0.44913032  0.59884042]\n",
      "[-0.89826063  1.19768084]\n",
      "95 [-0.44014771  0.58686361]\n",
      "[-0.88029542  1.17372722]\n",
      "96 [-0.43134475  0.57512634]\n",
      "[-0.86268951  1.15025268]\n",
      "97 [-0.42271786  0.56362381]\n",
      "[-0.84543572  1.12724763]\n",
      "98 [-0.4142635   0.55235134]\n",
      "[-0.828527    1.10470267]\n",
      "99 [-0.40597823  0.54130431]\n",
      "[-0.81195646  1.08260862]\n",
      "[-0.39785867  0.53047822]\n"
     ]
    }
   ],
   "source": [
    "def f01(x):\n",
    "  return np.sum(x**2)\n",
    "\n",
    "init_x = np.array([-3.0, 4.0])\n",
    "print(gradient_descent(f01, init_x))"
   ]
  }
 ],
 "metadata": {
  "kernelspec": {
   "display_name": "ML10",
   "language": "python",
   "name": "python3"
  },
  "language_info": {
   "codemirror_mode": {
    "name": "ipython",
    "version": 3
   },
   "file_extension": ".py",
   "mimetype": "text/x-python",
   "name": "python",
   "nbconvert_exporter": "python",
   "pygments_lexer": "ipython3",
   "version": "3.10.14"
  }
 },
 "nbformat": 4,
 "nbformat_minor": 2
}
