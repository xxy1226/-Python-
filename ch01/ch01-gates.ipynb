{
 "cells": [
  {
   "cell_type": "markdown",
   "metadata": {},
   "source": [
    "# 与门"
   ]
  },
  {
   "cell_type": "code",
   "execution_count": 1,
   "metadata": {},
   "outputs": [
    {
     "name": "stdout",
     "output_type": "stream",
     "text": [
      "0\n",
      "0\n",
      "0\n",
      "1\n"
     ]
    }
   ],
   "source": [
    "def AND(x1, x2):\n",
    "    w1, w2, theta = 0.5, 0.5, 0.7\n",
    "    tmp = x1*w1 + x2*w2\n",
    "    if tmp <= theta:\n",
    "        return 0\n",
    "    elif tmp > theta:\n",
    "        return 1\n",
    "      \n",
    "print(AND(0, 0))\n",
    "print(AND(1, 0))\n",
    "print(AND(0, 1))\n",
    "print(AND(1, 1))"
   ]
  },
  {
   "cell_type": "markdown",
   "metadata": {},
   "source": [
    "# 或门"
   ]
  },
  {
   "cell_type": "code",
   "execution_count": 3,
   "metadata": {},
   "outputs": [
    {
     "name": "stdout",
     "output_type": "stream",
     "text": [
      "0\n",
      "1\n",
      "1\n",
      "1\n"
     ]
    }
   ],
   "source": [
    "def OR(x1, x2):\n",
    "  w1, w2, theta = 0.5, 0.5, 0.0\n",
    "  tmp = x1*w1 + x2*w2\n",
    "  if tmp <= theta:\n",
    "    return 0\n",
    "  elif tmp > theta:\n",
    "    return 1\n",
    "      \n",
    "print(OR(0, 0))\n",
    "print(OR(1, 0))\n",
    "print(OR(0, 1))\n",
    "print(OR(1, 1))"
   ]
  },
  {
   "cell_type": "markdown",
   "metadata": {},
   "source": [
    "# 与非门"
   ]
  },
  {
   "cell_type": "code",
   "execution_count": 7,
   "metadata": {},
   "outputs": [
    {
     "name": "stdout",
     "output_type": "stream",
     "text": [
      "1\n",
      "1\n",
      "1\n",
      "0\n"
     ]
    }
   ],
   "source": [
    "def NAND(x1, x2):\n",
    "    w1, w2, theta = -0.5, -0.5, -0.7\n",
    "    tmp = w1 * x1 + w2 * x2\n",
    "    if tmp <= theta:\n",
    "        return 0\n",
    "    elif tmp > theta:\n",
    "        return 1\n",
    "\n",
    "print(NAND(0, 0))\n",
    "print(NAND(1, 0))\n",
    "print(NAND(0, 1))\n",
    "print(NAND(1, 1))"
   ]
  },
  {
   "cell_type": "markdown",
   "metadata": {},
   "source": [
    "# 偏置、权重"
   ]
  },
  {
   "cell_type": "code",
   "execution_count": 8,
   "metadata": {},
   "outputs": [
    {
     "name": "stdout",
     "output_type": "stream",
     "text": [
      "[0.  0.5]\n",
      "0.5\n",
      "-0.19999999999999996\n"
     ]
    }
   ],
   "source": [
    "import numpy as np\n",
    "\n",
    "x = np.array([0, 1])\n",
    "w = np.array([0.5, 0.5])\n",
    "b = -0.7\n",
    "\n",
    "print(w * x)\n",
    "print(np.sum(w * x))\n",
    "print(np.sum(w * x) + b)"
   ]
  },
  {
   "cell_type": "markdown",
   "metadata": {},
   "source": [
    "# 与门(偏置+权重)"
   ]
  },
  {
   "cell_type": "code",
   "execution_count": 10,
   "metadata": {},
   "outputs": [
    {
     "name": "stdout",
     "output_type": "stream",
     "text": [
      "0\n",
      "0\n",
      "0\n",
      "1\n"
     ]
    }
   ],
   "source": [
    "import numpy as np\n",
    "def AND(x1, x2):\n",
    "  x = np.array([x1, x2])\n",
    "  w = np.array([0.5, 0.5])\n",
    "  b = -0.7\n",
    "  tmp = np.sum(w*x) + b\n",
    "  if tmp <= 0:\n",
    "    return 0\n",
    "  else:\n",
    "    return 1\n",
    "  \n",
    "print(AND(0, 0))\n",
    "print(AND(1, 0))\n",
    "print(AND(0, 1))\n",
    "print(AND(1, 1))"
   ]
  },
  {
   "cell_type": "markdown",
   "metadata": {},
   "source": [
    "# 异或门"
   ]
  },
  {
   "cell_type": "markdown",
   "metadata": {},
   "source": [
    "异或门无法用单层感知机实现"
   ]
  },
  {
   "cell_type": "code",
   "execution_count": 14,
   "metadata": {},
   "outputs": [
    {
     "name": "stdout",
     "output_type": "stream",
     "text": [
      "0\n",
      "1\n",
      "1\n",
      "0\n"
     ]
    }
   ],
   "source": [
    "def XOR(x1, x2):\n",
    "  s1 = NAND(x1, x2)\n",
    "  s2 = OR(x1, x2)\n",
    "  y = AND(s1, s2)\n",
    "  return y\n",
    "\n",
    "print(XOR(0, 0))\n",
    "print(XOR(1, 0))\n",
    "print(XOR(0, 1))\n",
    "print(XOR(1, 1))"
   ]
  }
 ],
 "metadata": {
  "kernelspec": {
   "display_name": "ML10",
   "language": "python",
   "name": "python3"
  },
  "language_info": {
   "codemirror_mode": {
    "name": "ipython",
    "version": 3
   },
   "file_extension": ".py",
   "mimetype": "text/x-python",
   "name": "python",
   "nbconvert_exporter": "python",
   "pygments_lexer": "ipython3",
   "version": "3.10.14"
  }
 },
 "nbformat": 4,
 "nbformat_minor": 2
}
